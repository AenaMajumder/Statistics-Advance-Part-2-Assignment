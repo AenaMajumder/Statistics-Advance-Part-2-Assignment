{
  "nbformat": 4,
  "nbformat_minor": 0,
  "metadata": {
    "colab": {
      "provenance": []
    },
    "kernelspec": {
      "name": "python3",
      "display_name": "Python 3"
    },
    "language_info": {
      "name": "python"
    }
  },
  "cells": [
    {
      "cell_type": "markdown",
      "source": [
        "#Theory Qsns"
      ],
      "metadata": {
        "id": "00xwGyJvEGti"
      }
    },
    {
      "cell_type": "markdown",
      "source": [
        "1. What is hypothesis testing in statistics?\n",
        "\n",
        "ans- Hypothesis testing is a statistical method used to make inferences about a population parameter based on sample data. It involves formulating a hypothesis about the population, collecting data, and then using statistical tests to determine whether the data supports or rejects the hypothesis.\n",
        "\n",
        "2. What is the null hypothesis, and how does it differ from the alternative hypothesis?\n",
        "\n",
        "ans- Null Hypothesis (H0): This is the default assumption or the status quo. It typically states that there is no significant difference or relationship between the variables being studied.\n",
        "\n",
        "Alternative Hypothesis (H1 or Ha): This is the claim or hypothesis that we want to test. It contradicts the null hypothesis and often states that there is a significant difference or relationship.\n",
        "\n",
        "3. What is the significance level in hypothesis testing, and why is it important?\n",
        "\n",
        "ans- The significance level (α) is the probability of rejecting the null hypothesis when it is actually true. It represents the threshold for making a decision. Common significance levels are 0.05 (5%) and 0.01 (1%).\n",
        "\n",
        "A lower significance level means a stricter criterion for rejecting the null hypothesis, resulting in fewer Type I errors (rejecting a true null hypothesis).\n",
        "\n",
        "4. What does a P-value represent in hypothesis testing?\n",
        "\n",
        "ans- The P-value is the probability of observing the data (or more extreme data) if the null hypothesis were true. It represents the strength of evidence against the null hypothesis.\n",
        "\n",
        "5. How do you interpret the P-value in hypothesis testing?\n",
        "\n",
        "ans- If P-value ≤ α (significance level), we reject the null hypothesis.\n",
        "If P-value > α, we fail to reject the null hypothesis.\n",
        "\n",
        "6. What are Type 1 and Type 2 errors in hypothesis testing?\n",
        "\n",
        "ans- Type I Error: Rejecting the null hypothesis when it is actually true (false positive).\n",
        "Type II Error: Failing to reject the null hypothesis when it is actually false (false negative).\n",
        "\n",
        "7. What is the difference between a one-tailed and a two-tailed test in hypothesis testing?\n",
        "\n",
        "ans- One-tailed test: Tests for a specific direction of the difference (e.g., greater than or less than).\n",
        "Two-tailed test: Tests for any difference in either direction.\n",
        "\n",
        "8. What is the Z-test, and when is it used in hypothesis testing?\n",
        "\n",
        "ans- The Z-test is used to compare a sample mean to a known population mean when the population standard deviation is known and the sample size is large (typically n ≥ 30).\n",
        "\n",
        "9. How do you calculate the Z-score, and what does it represent in hypothesis testing?\n",
        "\n",
        "ans- Z-score = (Sample Mean - Population Mean) / (Population Standard Deviation / √Sample Size)\n",
        "\n",
        "It represents the number of standard deviations a sample mean is away from the population mean in a standard normal distribution.\n",
        "\n",
        "10. What is the T-distribution, and when should it be used instead of the normal distribution?\n",
        "\n",
        "ans- The T-distribution is similar to the normal distribution but has heavier tails. It is used when the population standard deviation is unknown and the sample size is small (typically n < 30).\n",
        "\n",
        "11. What is the difference between a Z-test and a T-test?\n",
        "\n",
        "ans- Z-test: Uses the standard normal distribution, requires known population standard deviation.\n",
        "T-test: Uses the t-distribution, suitable when population standard deviation is unknown and sample size is small.\n",
        "\n",
        "12. What is the T-test, and how is it used in hypothesis testing?\n",
        "\n",
        "ans- The T-test is used to compare sample means when the population standard deviation is unknown. It can be used for one-sample t-tests, independent samples t-tests, and paired samples t-tests.\n",
        "\n",
        "13. What is the relationship between Z-test and T-test in hypothesis testing?\n",
        "\n",
        "ans- As the sample size increases, the t-distribution approaches the standard normal distribution. Therefore, for large sample sizes, the results of a t-test will be very similar to those of a z-test.\n",
        "\n",
        "14. What is a confidence interval, and how is it used to interpret statistical results?\n",
        "\n",
        "ans- A confidence interval is a range of values within which the true population parameter is likely to fall with a certain level of confidence. It provides a measure of uncertainty associated with the estimate.\n",
        "\n",
        "15. What is the margin of error, and how does it affect the confidence interval?\n",
        "\n",
        "ans- The margin of error is the amount added and subtracted from the sample statistic to create the confidence interval. A larger margin of error results in a wider confidence interval, indicating greater uncertainty.\n",
        "\n",
        "16. How is Bayes' Theorem used in statistics, and what is its significance?\n",
        "\n",
        "ans- Bayes' Theorem provides a way to update the probability of an event based on new evidence. It is used in Bayesian statistics for making inferences and updating beliefs in light of new information.\n",
        "\n",
        "17. What is the Chi-square distribution, and when is it used?\n",
        "\n",
        "ans- The Chi-square distribution is a continuous probability distribution. It is used in various statistical tests, such as the chi-square goodness-of-fit test and the chi-square test for independence.\n",
        "\n",
        "18. What is the Chi-square goodness of fit test, and how is it applied?\n",
        "\n",
        "ans- The Chi-square goodness-of-fit test is used to determine whether observed data fits a particular theoretical distribution (e.g., normal distribution, uniform distribution).\n",
        "\n",
        "19. What is the F-distribution, and when is it used in hypothesis testing?\n",
        "\n",
        "ans- The F-distribution is used in analysis of variance (ANOVA) tests to compare the variances of two or more groups.\n",
        "\n",
        "20. What is an ANOVA test, and what are its assumptions?\n",
        "\n",
        "ans- ANOVA (Analysis of Variance) is a statistical method used to compare the means of three or more groups. Assumptions include:\n",
        "\n",
        "Normality of the data within each group\n",
        "Homogeneity of variances (equal variances across groups)\n",
        "Independence of observations\n",
        "\n",
        "21. What are the different types of ANOVA tests?\n",
        "\n",
        "ans- One-way ANOVA: Compares means of three or more groups.\n",
        "Two-way ANOVA: Compares means of groups based on two factors.\n",
        "Repeated measures ANOVA: Compares means of the same group at different time points.\n",
        "\n",
        "22. What is the F-test, and how does it relate to hypothesis testing?\n",
        "\n",
        "ans- The F-test is used in ANOVA to compare the variance between groups to the variance within groups. The F-statistic is calculated, and its value is compared to the critical value from the F-distribution to determine if there is a significant difference between group means.\n",
        "\n"
      ],
      "metadata": {
        "id": "6NxxupK3EMfX"
      }
    },
    {
      "cell_type": "markdown",
      "source": [
        "#Practical"
      ],
      "metadata": {
        "id": "KWyqkU0eGDJe"
      }
    },
    {
      "cell_type": "markdown",
      "source": [
        "1. Write a Python program to perform a Z-test for comparing a sample mean to a known population mean and interpret the results.\n",
        "\n"
      ],
      "metadata": {
        "id": "zOXgh0AMGGM9"
      }
    },
    {
      "cell_type": "code",
      "execution_count": 23,
      "metadata": {
        "id": "yYPqZxHvD6Ri",
        "colab": {
          "base_uri": "https://localhost:8080/"
        },
        "outputId": "6304f9bf-4cf2-4a77-dd8a-6d4906bc3ef2"
      },
      "outputs": [
        {
          "output_type": "stream",
          "name": "stdout",
          "text": [
            "Z-statistic: 2.8284271247461903\n",
            "P-value: 0.004677734981047177\n",
            "Reject the null hypothesis.\n"
          ]
        }
      ],
      "source": [
        "import numpy as np\n",
        "from scipy.stats import norm\n",
        "\n",
        "def z_test(sample_mean, population_mean, population_std, sample_size, alpha=0.05):\n",
        "\n",
        "  z_statistic = (sample_mean - population_mean) / (population_std / np.sqrt(sample_size))\n",
        "  p_value = 2 * (1 - norm.cdf(abs(z_statistic)))\n",
        "\n",
        "  return z_statistic, p_value\n",
        "\n",
        "sample_mean = 52\n",
        "population_mean = 50\n",
        "population_std = 5\n",
        "sample_size = 50\n",
        "\n",
        "z_stat, p_value = z_test(sample_mean, population_mean, population_std, sample_size)\n",
        "\n",
        "print(\"Z-statistic:\", z_stat)\n",
        "print(\"P-value:\", p_value)\n",
        "\n",
        "if p_value < alpha:\n",
        "  print(\"Reject the null hypothesis.\")\n",
        "else:\n",
        "  print(\"Fail to reject the null hypothesis.\")"
      ]
    },
    {
      "cell_type": "markdown",
      "source": [
        "2. Simulate random data to perform hypothesis testing and calculate the corresponding P-value using Python.\n",
        "\n"
      ],
      "metadata": {
        "id": "Y4k6t7yEGd0D"
      }
    },
    {
      "cell_type": "code",
      "source": [
        "import numpy as np\n",
        "from scipy.stats import ttest_1samp\n",
        "\n",
        "population_mean = 50\n",
        "population_std = 10\n",
        "sample_size = 30\n",
        "data = np.random.normal(population_mean, population_std, size=sample_size)\n",
        "\n",
        "t_statistic, p_value = ttest_1samp(data, population_mean)\n",
        "\n",
        "print(\"T-statistic:\", t_statistic)\n",
        "print(\"P-value:\", p_value)"
      ],
      "metadata": {
        "id": "s5sl0OOCGfOy",
        "colab": {
          "base_uri": "https://localhost:8080/"
        },
        "outputId": "69195827-4813-485e-a335-25223b362531"
      },
      "execution_count": 22,
      "outputs": [
        {
          "output_type": "stream",
          "name": "stdout",
          "text": [
            "T-statistic: -0.15086909443184118\n",
            "P-value: 0.8811235305857924\n"
          ]
        }
      ]
    },
    {
      "cell_type": "markdown",
      "source": [
        "3. Implement a one-sample Z-test using Python to compare the sample mean with the population mean.\n",
        "\n"
      ],
      "metadata": {
        "id": "RXdlxaCCGgVd"
      }
    },
    {
      "cell_type": "code",
      "source": [
        "import numpy as np\n",
        "from scipy.stats import norm\n",
        "\n",
        "def z_test(sample_mean, population_mean, population_std, sample_size, alpha=0.05):\n",
        "\n",
        "  z_statistic = (sample_mean - population_mean) / (population_std / np.sqrt(sample_size))\n",
        "  p_value = 2 * (1 - norm.cdf(abs(z_statistic)))\n",
        "\n",
        "  return z_statistic, p_value\n",
        "\n",
        "sample_mean = 52\n",
        "population_mean = 50\n",
        "population_std = 5\n",
        "sample_size = 50\n",
        "\n",
        "z_stat, p_value = z_test(sample_mean, population_mean, population_std, sample_size)\n",
        "\n",
        "print(\"Z-statistic:\", z_stat)\n",
        "print(\"P-value:\", p_value)\n",
        "\n",
        "if p_value < alpha:\n",
        "  print(\"Reject the null hypothesis.\")\n",
        "else:\n",
        "  print(\"Fail to reject the null hypothesis.\")"
      ],
      "metadata": {
        "id": "zmcClPNhGlgj",
        "colab": {
          "base_uri": "https://localhost:8080/"
        },
        "outputId": "e9c21d63-bae4-4182-f380-b3f7ecc17111"
      },
      "execution_count": 21,
      "outputs": [
        {
          "output_type": "stream",
          "name": "stdout",
          "text": [
            "Z-statistic: 2.8284271247461903\n",
            "P-value: 0.004677734981047177\n",
            "Reject the null hypothesis.\n"
          ]
        }
      ]
    },
    {
      "cell_type": "markdown",
      "source": [
        "4. Perform a two-tailed Z-test using Python and visualize the decision region on a plot.\n",
        "\n"
      ],
      "metadata": {
        "id": "BNBxqzvIGnnU"
      }
    },
    {
      "cell_type": "code",
      "source": [
        "import numpy as np\n",
        "from scipy.stats import norm\n",
        "import matplotlib.pyplot as plt\n",
        "\n",
        "sample_mean = 52\n",
        "population_mean = 50\n",
        "population_std = 5\n",
        "sample_size = 50\n",
        "alpha = 0.05\n",
        "\n",
        "z_stat, p_value = z_test(sample_mean, population_mean, population_std, sample_size)\n",
        "\n",
        "z_critical = norm.ppf(1 - alpha / 2)\n",
        "\n",
        "x = np.linspace(-3, 3, 100)\n",
        "y = norm.pdf(x, 0, 1)\n",
        "plt.plot(x, y)\n",
        "\n",
        "plt.fill_between(x, y, where=(x < -z_critical), color='red', alpha=0.2)\n",
        "plt.fill_between(x, y, where=(x > z_critical), color='red', alpha=0.2)\n",
        "\n",
        "plt.axvline(z_stat, color='blue', linestyle='--')\n",
        "\n",
        "plt.xlabel('Z-score')\n",
        "plt.ylabel('Probability Density')\n",
        "plt.title('Two-tailed Z-test')\n",
        "plt.show()"
      ],
      "metadata": {
        "id": "r961f3Vsgmbi"
      },
      "execution_count": null,
      "outputs": []
    },
    {
      "cell_type": "markdown",
      "source": [
        "5. Create a Python function that calculates and visualizes Type 1 and Type 2 errors during hypothesis testing.\n",
        "\n"
      ],
      "metadata": {
        "id": "PaV0__gzGq9T"
      }
    },
    {
      "cell_type": "code",
      "source": [
        "import numpy as np\n",
        "from scipy.stats import norm\n",
        "import matplotlib.pyplot as plt\n",
        "\n",
        "def visualize_type_errors(population_mean, sample_size, alpha=0.05):\n",
        "\n",
        "  z_critical = norm.ppf(1 - alpha / 2)\n",
        "\n",
        "  sample_means = np.linspace(population_mean - 5, population_mean + 5, 100)\n",
        "\n",
        "  power = 1 - norm.cdf(z_critical - (sample_means - population_mean) / (1 / np.sqrt(sample_size)))\n",
        "\n",
        "  plt.plot(sample_means, power)\n",
        "  plt.xlabel('Sample Mean')\n",
        "  plt.ylabel('Power (1 - Type 2 Error)')\n",
        "  plt.title('Type 1 and Type 2 Errors')\n",
        "\n",
        "  plt.axvline(population_mean, color='red', linestyle='--', label='True Mean')\n",
        "  plt.axvspan(population_mean - z_critical / np.sqrt(sample_size), population_mean + z_critical / np.sqrt(sample_size), color='red', alpha=0.2, label='Type 1 Error Region')\n",
        "\n",
        "  plt.legend()\n",
        "  plt.show()\n",
        "\n",
        "visualize_type_errors(population_mean=50, sample_size=30)"
      ],
      "metadata": {
        "id": "W7WqOF_KGsSu",
        "colab": {
          "base_uri": "https://localhost:8080/",
          "height": 472
        },
        "outputId": "3c21fece-9471-4b45-d140-aacb9afbe114"
      },
      "execution_count": 19,
      "outputs": [
        {
          "output_type": "display_data",
          "data": {
            "text/plain": [
              "<Figure size 640x480 with 1 Axes>"
            ],
            "image/png": "[encoded data removed]"
          },
          "metadata": {}
        }
      ]
    },
    {
      "cell_type": "markdown",
      "source": [
        "6. Write a Python program to perform an independent T-test and interpret the results.\n",
        "\n"
      ],
      "metadata": {
        "id": "OZARrtkfGtVt"
      }
    },
    {
      "cell_type": "code",
      "source": [
        "import numpy as np\n",
        "from scipy.stats import ttest_ind\n",
        "\n",
        "data1 = np.random.normal(50, 10, size=30)\n",
        "data2 = np.random.normal(55, 10, size=30)\n",
        "\n",
        "t_statistic, p_value = ttest_ind(data1, data2)\n",
        "\n",
        "print(\"T-statistic:\", t_statistic)\n",
        "print(\"P-value:\", p_value)\n",
        "\n",
        "if p_value < 0.05:\n",
        "  print(\"Reject the null hypothesis. There is a significant difference between the means.\")\n",
        "else:\n",
        "  print(\"Fail to reject the null hypothesis. There is no significant difference between the means.\")"
      ],
      "metadata": {
        "id": "qm3aN-LBGufl",
        "colab": {
          "base_uri": "https://localhost:8080/"
        },
        "outputId": "f1d6b8a7-7cec-4be7-c792-1ea705bc5848"
      },
      "execution_count": 18,
      "outputs": [
        {
          "output_type": "stream",
          "name": "stdout",
          "text": [
            "T-statistic: -0.34783898682972186\n",
            "P-value: 0.7292203526283011\n",
            "Fail to reject the null hypothesis. There is no significant difference between the means.\n"
          ]
        }
      ]
    },
    {
      "cell_type": "markdown",
      "source": [
        "7. Perform a paired sample T-test using Python and visualize the comparison results.\n",
        "\n"
      ],
      "metadata": {
        "id": "XAee5TeeGvfd"
      }
    },
    {
      "cell_type": "code",
      "source": [
        "import numpy as np\n",
        "from scipy.stats import ttest_rel\n",
        "import matplotlib.pyplot as plt\n",
        "\n",
        "data1 = np.random.normal(50, 10, size=30)\n",
        "data2 = data1 + np.random.normal(5, 2, size=30)\n",
        "\n",
        "t_statistic, p_value = ttest_rel(data1, data2)\n",
        "\n",
        "print(\"T-statistic:\", t_statistic)\n",
        "print(\"P-value:\", p_value)\n",
        "\n",
        "plt.scatter(data1, data2)\n",
        "plt.xlabel('Data 1')\n",
        "plt.ylabel('Data 2')\n",
        "plt.title('Paired Sample Data')\n",
        "plt.show()"
      ],
      "metadata": {
        "id": "gklvhrFoGxH8",
        "colab": {
          "base_uri": "https://localhost:8080/",
          "height": 507
        },
        "outputId": "0a281e3c-a0a1-4812-e29c-5eb2705fc9a8"
      },
      "execution_count": 17,
      "outputs": [
        {
          "output_type": "stream",
          "name": "stdout",
          "text": [
            "T-statistic: -17.315678478117245\n",
            "P-value: 7.840317257445603e-17\n"
          ]
        },
        {
          "output_type": "display_data",
          "data": {
            "text/plain": [
              "<Figure size 640x480 with 1 Axes>"
            ],
            "image/png": "[encoded data removed]"
          },
          "metadata": {}
        }
      ]
    },
    {
      "cell_type": "markdown",
      "source": [
        "8. Simulate data and perform both Z-test and T-test, then compare the results using Python.\n",
        "\n"
      ],
      "metadata": {
        "id": "jpxW8lEDGyEw"
      }
    },
    {
      "cell_type": "code",
      "source": [
        "import numpy as np\n",
        "from scipy.stats import norm, ttest_1samp\n",
        "\n",
        "# Generate random data\n",
        "population_mean = 50\n",
        "population_std = 10\n",
        "sample_size = 30\n",
        "data = np.random.normal(population_mean, population_std, size=sample_size)\n",
        "\n",
        "# Perform Z-test (assuming population standard deviation is known)\n",
        "z_statistic, z_p_value = z_test(np.mean(data), population_mean, population_std, sample_size)\n",
        "\n",
        "# Perform T-test (assuming population standard deviation is unknown)\n",
        "t_statistic, t_p_value = ttest_1samp(data, population_mean)\n",
        "\n",
        "print(\"Z-statistic:\", z_statistic, \"Z-p_value:\", z_p_value)\n",
        "print(\"T-statistic:\", t_statistic, \"T-p_value:\", t_p_value)\n",
        "\n",
        "# Compare results (for large sample sizes, Z-test and T-test results should be similar)"
      ],
      "metadata": {
        "id": "KNjSwhysgQhr"
      },
      "execution_count": null,
      "outputs": []
    },
    {
      "cell_type": "markdown",
      "source": [
        "9. Write a Python function to calculate the confidence interval for a sample mean and explain its significance.\n",
        "\n"
      ],
      "metadata": {
        "id": "mVvB5itaG1bQ"
      }
    },
    {
      "cell_type": "code",
      "source": [
        "import numpy as np\n",
        "from scipy.stats import t\n",
        "\n",
        "def confidence_interval(data, confidence_)"
      ],
      "metadata": {
        "id": "V6nRjldGG17X"
      },
      "execution_count": null,
      "outputs": []
    },
    {
      "cell_type": "markdown",
      "source": [
        "10. Write a Python program to calculate the margin of error for a given confidence level using sample data.\n",
        "\n"
      ],
      "metadata": {
        "id": "12MLPgiOdk7C"
      }
    },
    {
      "cell_type": "code",
      "source": [
        "import numpy as np\n",
        "from scipy.stats import t\n",
        "\n",
        "def calculate_margin_of_error(data, confidence_level=0.95):\n",
        "\n",
        "  n = len(data)\n",
        "  df = n - 1\n",
        "  std_err = np.std(data, ddof=1) / np.sqrt(n)\n",
        "  t_critical = t.ppf((1 + confidence_level) / 2, df)\n",
        "\n",
        "  margin_of_error = t_critical * std_err\n",
        "\n",
        "  return margin_of_error\n",
        "\n",
        "data = [10, 12, 15, 18, 20]\n",
        "confidence_level = 0.95\n",
        "\n",
        "margin_error = calculate_margin_of_error(data, confidence_level)\n",
        "print(\"Margin of Error:\", margin_error)"
      ],
      "metadata": {
        "colab": {
          "base_uri": "https://localhost:8080/"
        },
        "id": "DglVj4S6dlY-",
        "outputId": "1c5db597-6426-4953-81ed-fc3e722469cd"
      },
      "execution_count": 9,
      "outputs": [
        {
          "output_type": "stream",
          "name": "stdout",
          "text": [
            "Margin of Error: 5.119511816120866\n"
          ]
        }
      ]
    },
    {
      "cell_type": "markdown",
      "source": [
        "11. Implement a Bayesian inference method using Bayes' Theorem in Python and explain the process.\n",
        "\n"
      ],
      "metadata": {
        "id": "2uxiUt4LdoB3"
      }
    },
    {
      "cell_type": "code",
      "source": [
        "import numpy as np\n",
        "\n",
        "def bayesian_inference(prior_prob, likelihood, evidence):\n",
        "\n",
        "  posterior_prob = (likelihood * prior_prob) / evidence\n",
        "\n",
        "  return posterior_prob\n",
        "\n",
        "prior_prob = 0.2\n",
        "likelihood = 0.8\n",
        "evidence = 0.5\n",
        "\n",
        "posterior_prob = bayesian_inference(prior_prob, likelihood, evidence)\n",
        "print(\"Posterior Probability:\", posterior_prob)"
      ],
      "metadata": {
        "colab": {
          "base_uri": "https://localhost:8080/"
        },
        "id": "nbChDdmZdpV_",
        "outputId": "fc426fa8-d03d-422a-a2e7-6b9805e04a18"
      },
      "execution_count": 8,
      "outputs": [
        {
          "output_type": "stream",
          "name": "stdout",
          "text": [
            "Posterior Probability: 0.32000000000000006\n"
          ]
        }
      ]
    },
    {
      "cell_type": "markdown",
      "source": [
        "12. Perform a Chi-square test for independence between two categorical variables in Python.\n",
        "\n"
      ],
      "metadata": {
        "id": "I6o-Wq5gdqrj"
      }
    },
    {
      "cell_type": "code",
      "source": [
        "import numpy as np\n",
        "from scipy.stats import chi2_contingency\n",
        "\n",
        "observed_data = np.array([[20, 30], [40, 20]])\n",
        "\n",
        "chi2_stat, p_value, dof, expected_freq = chi2_contingency(observed_data)\n",
        "\n",
        "print(\"Chi-square Statistic:\", chi2_stat)\n",
        "print(\"P-value:\", p_value)\n",
        "print(\"Degrees of Freedom:\", dof)\n",
        "print(\"Expected Frequencies:\\n\", expected_freq)\n",
        "\n",
        "if p_value < 0.05:\n",
        "  print(\"Reject the null hypothesis. There is a significant association between the variables.\")\n",
        "else:\n",
        "  print(\"Fail to reject the null hypothesis. There is no significant association between the variables.\")"
      ],
      "metadata": {
        "colab": {
          "base_uri": "https://localhost:8080/"
        },
        "id": "lPKom648dr2U",
        "outputId": "e1ec37e5-c83d-4399-ca90-5e45a6adb618"
      },
      "execution_count": 7,
      "outputs": [
        {
          "output_type": "stream",
          "name": "stdout",
          "text": [
            "Chi-square Statistic: 6.783638888888889\n",
            "P-value: 0.009199715196999733\n",
            "Degrees of Freedom: 1\n",
            "Expected Frequencies:\n",
            " [[27.27272727 22.72727273]\n",
            " [32.72727273 27.27272727]]\n",
            "Reject the null hypothesis. There is a significant association between the variables.\n"
          ]
        }
      ]
    },
    {
      "cell_type": "markdown",
      "source": [
        "13. Write a Python program to calculate the expected frequencies for a Chi-square test based on observed data.\n",
        "\n"
      ],
      "metadata": {
        "id": "VAG15wUWds7V"
      }
    },
    {
      "cell_type": "code",
      "source": [
        "import numpy as np\n",
        "from scipy.stats import chi2_contingency\n",
        "\n",
        "observed_data = np.array([[20, 30], [40, 20]])\n",
        "\n",
        "chi2_stat, p_value, dof, expected_freq = chi2_contingency(observed_data)\n",
        "\n",
        "print(\"Expected Frequencies:\\n\", expected_freq)"
      ],
      "metadata": {
        "colab": {
          "base_uri": "https://localhost:8080/"
        },
        "id": "i6sC-dTjdvgP",
        "outputId": "a7e80ed3-7e09-477c-e18a-c7f5254e1793"
      },
      "execution_count": 11,
      "outputs": [
        {
          "output_type": "stream",
          "name": "stdout",
          "text": [
            "Expected Frequencies:\n",
            " [[27.27272727 22.72727273]\n",
            " [32.72727273 27.27272727]]\n"
          ]
        }
      ]
    },
    {
      "cell_type": "markdown",
      "source": [
        "14. Perform a goodness-of-fit test using Python to compare the observed data to an expected distribution.\n",
        "\n"
      ],
      "metadata": {
        "id": "j1Bf87LgdwbK"
      }
    },
    {
      "cell_type": "code",
      "source": [
        "import numpy as np\n",
        "from scipy.stats import chisquare\n",
        "\n",
        "observed_data = np.array([10, 20, 30, 40])\n",
        "\n",
        "expected_freq = np.array([25, 25, 25, 25])\n",
        "\n",
        "chi2_stat, p_value = chisquare(observed_data, f_exp=expected_freq)\n",
        "\n",
        "print(\"Chi-square Statistic:\", chi2_stat)\n",
        "print(\"P-value:\", p_value)\n",
        "\n",
        "if p_value < 0.05:\n",
        "  print(\"Reject the null hypothesis. The observed data does not fit the expected distribution.\")\n",
        "else:\n",
        "  print(\"Fail to reject the null hypothesis. The observed data fits the expected distribution.\")"
      ],
      "metadata": {
        "colab": {
          "base_uri": "https://localhost:8080/"
        },
        "id": "J5SJ_cZ6dx9h",
        "outputId": "0d49ba62-7342-4761-d7ae-303e3a0ec19e"
      },
      "execution_count": 6,
      "outputs": [
        {
          "output_type": "stream",
          "name": "stdout",
          "text": [
            "Chi-square Statistic: 20.0\n",
            "P-value: 0.00016974243555282632\n",
            "Reject the null hypothesis. The observed data does not fit the expected distribution.\n"
          ]
        }
      ]
    },
    {
      "cell_type": "markdown",
      "source": [
        "15. Create a Python script to simulate and visualize the Chi-square distribution and discuss its characteristics.\n",
        "\n"
      ],
      "metadata": {
        "id": "N-INJRufdzSO"
      }
    },
    {
      "cell_type": "code",
      "source": [
        "import numpy as np\n",
        "import matplotlib.pyplot as plt\n",
        "from scipy.stats import chi2\n",
        "\n",
        "df = 5\n",
        "\n",
        "x = np.linspace(0, 20, 100)\n",
        "y = chi2.pdf(x, df)\n",
        "\n",
        "plt.plot(x, y)\n",
        "plt.xlabel('Chi-square Statistic')\n",
        "plt.ylabel('Probability Density')\n",
        "plt.title('Chi-square Distribution (df = {})'.format(df))\n",
        "plt.show()"
      ],
      "metadata": {
        "colab": {
          "base_uri": "https://localhost:8080/",
          "height": 472
        },
        "id": "k4rodev-d0lV",
        "outputId": "ffee9518-f2ee-4186-a51c-3fa12bd4d454"
      },
      "execution_count": 5,
      "outputs": [
        {
          "output_type": "display_data",
          "data": {
            "text/plain": [
              "<Figure size 640x480 with 1 Axes>"
            ],
            "image/png": "[encoded data removed]"
          },
          "metadata": {}
        }
      ]
    },
    {
      "cell_type": "markdown",
      "source": [
        "16. Implement an F-test using Python to compare the variances of two random samples.\n",
        "\n"
      ],
      "metadata": {
        "id": "f38bKnAtd2kA"
      }
    },
    {
      "cell_type": "code",
      "source": [
        "import numpy as np\n",
        "from scipy.stats import f_oneway\n",
        "\n",
        "data1 = np.random.normal(50, 10, size=30)\n",
        "data2 = np.random.normal(50, 5, size=30)\n",
        "\n",
        "f_statistic, p_value = f_oneway(data1, data2)\n",
        "\n",
        "print(\"F-statistic:\", f_statistic)\n",
        "print(\"P-value:\", p_value)\n",
        "\n",
        "if p_value < 0.05:\n",
        "  print(\"Reject the null hypothesis. Variances are significantly different.\")\n",
        "else:\n",
        "  print(\"Fail to reject the null hypothesis. Variances are not significantly different.\")"
      ],
      "metadata": {
        "colab": {
          "base_uri": "https://localhost:8080/"
        },
        "id": "ejBz9FB4d3By",
        "outputId": "5f0ac399-ed86-44a9-b6c2-910b13373642"
      },
      "execution_count": 4,
      "outputs": [
        {
          "output_type": "stream",
          "name": "stdout",
          "text": [
            "F-statistic: 0.005973862531399944\n",
            "P-value: 0.9386582528607492\n",
            "Fail to reject the null hypothesis. Variances are not significantly different.\n"
          ]
        }
      ]
    },
    {
      "cell_type": "markdown",
      "source": [
        "17. Write a Python program to perform an ANOVA test to compare means between multiple groups and interpret the results.\n",
        "\n"
      ],
      "metadata": {
        "id": "TmfaKD8dd7ET"
      }
    },
    {
      "cell_type": "code",
      "source": [
        "import numpy as np\n",
        "from scipy.stats import f_oneway\n",
        "\n",
        "group1 = np.random.normal(50, 10, size=30)\n",
        "group2 = np.random.normal(55, 10, size=30)\n",
        "group3 = np.random.normal(45, 10, size=30)\n",
        "\n",
        "f_statistic, p_value = f_oneway(group1, group2, group3)\n",
        "\n",
        "print(\"F-statistic:\", f_statistic)\n",
        "print(\"P-value:\", p_value)\n",
        "\n",
        "if p_value < 0.05:\n",
        "  print(\"Reject the null hypothesis. There is a significant difference between group means.\")\n",
        "else:\n",
        "  print(\"Fail to reject the null hypothesis. There is no significant difference between group means.\")"
      ],
      "metadata": {
        "colab": {
          "base_uri": "https://localhost:8080/"
        },
        "id": "vArkitmhd8aM",
        "outputId": "c9b777b3-5f3d-4de7-e74c-010447d8e4a0"
      },
      "execution_count": 3,
      "outputs": [
        {
          "output_type": "stream",
          "name": "stdout",
          "text": [
            "F-statistic: 10.104827077186673\n",
            "P-value: 0.00011321736813876072\n",
            "Reject the null hypothesis. There is a significant difference between group means.\n"
          ]
        }
      ]
    },
    {
      "cell_type": "markdown",
      "source": [
        "18. Perform a one-way ANOVA test using Python to compare the means of different groups and plot the results.\n",
        "\n"
      ],
      "metadata": {
        "id": "4usbYwwtd9Yw"
      }
    },
    {
      "cell_type": "code",
      "source": [
        "import numpy as np\n",
        "from scipy.stats import f_oneway\n",
        "import matplotlib.pyplot as plt\n",
        "\n",
        "f_statistic, p_value = f_oneway(group1, group2, group3)\n",
        "\n",
        "plt.boxplot([group1, group2, group3])\n",
        "plt.xticks([1, 2, 3], ['Group 1', 'Group 2', 'Group 3'])\n",
        "plt.ylabel('Values')\n",
        "plt.title('One-Way ANOVA')\n",
        "plt.show()"
      ],
      "metadata": {
        "id": "3eAe4ITeedoX"
      },
      "execution_count": null,
      "outputs": []
    },
    {
      "cell_type": "markdown",
      "source": [
        "19. Write a Python function to check the assumptions (normality, independence, and equal variance) for ANOVA.\n",
        "\n"
      ],
      "metadata": {
        "id": "pb2cJLhpd_bQ"
      }
    },
    {
      "cell_type": "code",
      "source": [
        "import numpy as np\n",
        "from scipy.stats import shapiro, levene\n",
        "\n",
        "def check_anova_assumptions(groups):\n",
        "\n",
        "  normality_tests = []\n",
        "  for group in groups:\n",
        "    stat, p = shapiro(group)\n",
        "    normality_tests.append(p)\n",
        "\n",
        "  equal_variance_test = levene(*groups)\n",
        "\n",
        "  return {'normality_p_values': normality_tests, 'equal_variance_p_value': equal_variance_test[1]}"
      ],
      "metadata": {
        "id": "LSoIm6tGeAnQ"
      },
      "execution_count": 10,
      "outputs": []
    },
    {
      "cell_type": "markdown",
      "source": [],
      "metadata": {
        "id": "W0T91YCSeBsL"
      }
    }
  ]
}